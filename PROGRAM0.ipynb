{
 "cells": [
  {
   "cell_type": "code",
   "execution_count": 2,
   "id": "4f945e89-0dce-4dab-a7d2-00fba84d05d4",
   "metadata": {},
   "outputs": [
    {
     "name": "stdin",
     "output_type": "stream",
     "text": [
      "Enter first number:  5\n",
      "Enter second number:  10\n"
     ]
    },
    {
     "name": "stdout",
     "output_type": "stream",
     "text": [
      "Addition: 15\n",
      "Subtraction: -5\n",
      "Multiplication: 50\n",
      "Division: 0.5\n"
     ]
    }
   ],
   "source": [
    "# ARITHMETIC OPERATION\n",
    "\n",
    "a = int(input(\"Enter first number: \"))\n",
    "b = int(input(\"Enter second number: \"))\n",
    "\n",
    "print(\"Addition:\", a + b)\n",
    "print(\"Subtraction:\", a - b)\n",
    "print(\"Multiplication:\", a * b)\n",
    "print(\"Division:\", a / b)"
   ]
  },
  {
   "cell_type": "code",
   "execution_count": 21,
   "id": "33ebed4d-1347-432a-b7c3-a04a13e5f495",
   "metadata": {},
   "outputs": [
    {
     "name": "stdin",
     "output_type": "stream",
     "text": [
      "Enter the first word: hello\n",
      "Enter the second word: world\n"
     ]
    },
    {
     "name": "stdout",
     "output_type": "stream",
     "text": [
      "Concatenation: hello world\n",
      "Length of str1: 5\n",
      "First 3 letters of str2: wor\n",
      "Uppercase str1: HELLO\n",
      "Lowercase str2: world\n",
      "fist character str2: w\n",
      "Last character str2: d\n"
     ]
    }
   ],
   "source": [
    "# STRING\n",
    "\n",
    "str1 = input(\"Enter the first word:\")\n",
    "str2 = input(\"Enter the second word:\")\n",
    "\n",
    "print(\"Concatenation:\", str1 + \" \" + str2)\n",
    "print(\"Length of str1:\", len(str1))\n",
    "print(\"First 3 letters of str2:\", str2[:3])\n",
    "print(\"Uppercase str1:\", str1.upper())\n",
    "print(\"Lowercase str2:\", str2.lower())\n",
    "print(\"fist character str2:\", str2[0])\n",
    "print(\"Last character str2:\", str2[-1])"
   ]
  },
  {
   "cell_type": "code",
   "execution_count": 8,
   "id": "ae1d9072-1c7f-4c1d-b4b6-1fb32768b3d1",
   "metadata": {},
   "outputs": [
    {
     "name": "stdout",
     "output_type": "stream",
     "text": [
      "x > y: True\n",
      "x == y: False\n",
      "x < y: False\n",
      "x != y: True\n",
      "x <= y: False\n",
      "x >= y: True\n"
     ]
    }
   ],
   "source": [
    "# BOOLEAN \n",
    "\n",
    "x = 10\n",
    "y = 5\n",
    "\n",
    "print(\"x > y:\", x > y)   \n",
    "print(\"x == y:\", x == y)  \n",
    "print(\"x < y:\", x < y )\n",
    "print(\"x != y:\", x != y) \n",
    "print(\"x <= y:\", x <= y) \n",
    "print(\"x >= y:\", x >= y)"
   ]
  },
  {
   "cell_type": "code",
   "execution_count": 9,
   "id": "5e310377-43cf-449a-8a9b-920da5fe45fb",
   "metadata": {},
   "outputs": [
    {
     "name": "stdout",
     "output_type": "stream",
     "text": [
      "Union : {1, 2, 3, 4, 5}\n",
      "Intersetion : {3}\n",
      "Difference : {1, 2}\n",
      "Symmetric difference : {1, 2, 4, 5}\n"
     ]
    }
   ],
   "source": [
    "# SET\n",
    "\n",
    "a = {1, 2, 3}\n",
    "b = {3, 4, 5}\n",
    "\n",
    "print(\"Union :\", a | b) \n",
    "print(\"Intersetion :\", a & b)  \n",
    "print(\"Difference :\", a - b)  \n",
    "print(\"Symmetric difference :\", a ^ b)\n",
    "   "
   ]
  },
  {
   "cell_type": "code",
   "execution_count": 14,
   "id": "0ea826d0-c598-4159-a1a3-35071e01cff3",
   "metadata": {},
   "outputs": [
    {
     "name": "stdout",
     "output_type": "stream",
     "text": [
      "First element : apple\n",
      "Last element : cherry\n",
      "Add element orange : ['apple', 'banana', 'cherry', 'orange']\n",
      "Insert element 1 st place : ['apple', 'mango', 'banana', 'cherry', 'orange']\n",
      "Remove element : ['apple', 'mango', 'cherry', 'orange']\n"
     ]
    }
   ],
   "source": [
    "# LIST\n",
    "\n",
    "fruits = [\"apple\", \"banana\", \"cherry\"]\n",
    "\n",
    "print(\"First element :\", fruits[0]) \n",
    "print(\"Last element :\", fruits[-1])\n",
    "fruits.append(\"orange\") \n",
    "print(\"Add element orange :\", fruits)\n",
    "fruits.insert(1, \"mango\") \n",
    "print(\"Insert element 1 st place :\", fruits)\n",
    "fruits.remove(\"banana\") \n",
    "print(\"Remove element :\", fruits)"
   ]
  },
  {
   "cell_type": "code",
   "execution_count": 18,
   "id": "d1e40f4e-666b-435f-8669-e200597b8f31",
   "metadata": {},
   "outputs": [
    {
     "name": "stdout",
     "output_type": "stream",
     "text": [
      "student: {'id': 101, 'name': 'Bob', 'grades': [88, 92, 79]}\n",
      "Name : Bob\n",
      "Age : None\n",
      "insert age: {'id': 101, 'name': 'Bob', 'grades': [88, 92, 79], 'age': 20}\n",
      "Update: {'id': 101, 'name': 'Robert', 'grades': [88, 92, 79], 'age': 20}\n"
     ]
    }
   ],
   "source": [
    "# DICTIONARY\n",
    "\n",
    "student = {  \"id\": 101,   \"name\": \"Bob\", \"grades\": [88, 92, 79] }\n",
    "\n",
    "print(\"student:\",student)\n",
    "print(\"Name :\", student[\"name\"])  \n",
    "print(\"Age :\", student.get(\"age\"))\n",
    "student[\"age\"] = 20   \n",
    "print(\"insert age:\", student)\n",
    "student[\"name\"] = \"Robert\" \n",
    "print(\"Update:\", student)"
   ]
  },
  {
   "cell_type": "code",
   "execution_count": null,
   "id": "7c807223-0e1d-43eb-8cfd-cc5f98a31c5c",
   "metadata": {},
   "outputs": [],
   "source": []
  }
 ],
 "metadata": {
  "kernelspec": {
   "display_name": "Python 3 (ipykernel)",
   "language": "python",
   "name": "python3"
  },
  "language_info": {
   "codemirror_mode": {
    "name": "ipython",
    "version": 3
   },
   "file_extension": ".py",
   "mimetype": "text/x-python",
   "name": "python",
   "nbconvert_exporter": "python",
   "pygments_lexer": "ipython3",
   "version": "3.11.4"
  }
 },
 "nbformat": 4,
 "nbformat_minor": 5
}
